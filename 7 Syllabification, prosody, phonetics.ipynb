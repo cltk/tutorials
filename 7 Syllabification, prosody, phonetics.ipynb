{
 "cells": [
  {
   "cell_type": "markdown",
   "metadata": {},
   "source": [
    "# Syllables"
   ]
  },
  {
   "cell_type": "code",
   "execution_count": 3,
   "metadata": {},
   "outputs": [
    {
     "name": "stdout",
     "output_type": "stream",
     "text": [
      "['est', 'interdum', 'praestare', 'mercaturis', 'rem', 'quaerere', 'nisi', 'tam', 'periculosum', 'sit', 'et', 'item', 'foenerari', 'si', 'tam', 'honestum', 'maiores', 'nostri', 'sic', 'habuerunt', 'et', 'ita', 'in', 'legibus', 'posiverunt', 'furem', 'dupli', 'condemnari', 'foeneratorem', 'quadrupli', 'quanto', 'peiorem', 'civem', 'existimarint', 'foeneratorem', 'quam', 'furem', 'hinc', 'licet', 'existimare', 'et', 'virum', 'bonum', 'quom', 'laudabant', 'ita', 'laudabant', 'bonum', 'agricolam', 'bonum', '-que', 'colonum', 'amplissime', 'laudari', 'existimabatur', 'qui', 'ita', 'laudabatur', 'mercatorem', 'autem', 'strenuum', 'studiosum', '-que', 'rei', 'quaerendae', 'existimo', 'verum', 'ut', 'supra', 'dixi', 'periculosum', 'et', 'calamitosum', 'at', 'ex', 'agricolis', 'et', 'viri', 'fortissimi', 'et', 'milites', 'strenuissimi', 'gignuntur', 'maxime', '-que', 'pius', 'quaestus', 'stabilissimus', '-que', 'consequitur', 'minime', '-que', 'invidiosus', 'minime', '-que', 'male', 'cogitantes', 'sunt', 'qui', 'in', 'eo', 'studio', 'occupati', 'sunt', 'nunc', 'ut', 'ad', 'rem', 'redeam', 'quod', 'promisi', 'institutum', 'principium', 'hoc', 'erit']\n"
     ]
    }
   ],
   "source": [
    "# http://docs.cltk.org/en/latest/latin.html#syllabifier\n",
    "from cltk.stem.latin.syllabifier import Syllabifier\n",
    "\n",
    "cato_agri_praef = \"Est interdum praestare mercaturis rem quaerere, nisi tam periculosum sit, et item foenerari, si tam honestum. Maiores nostri sic habuerunt et ita in legibus posiverunt: furem dupli condemnari, foeneratorem quadrupli. Quanto peiorem civem existimarint foeneratorem quam furem, hinc licet existimare. Et virum bonum quom laudabant, ita laudabant: bonum agricolam bonumque colonum; amplissime laudari existimabatur qui ita laudabatur. Mercatorem autem strenuum studiosumque rei quaerendae existimo, verum, ut supra dixi, periculosum et calamitosum. At ex agricolis et viri fortissimi et milites strenuissimi gignuntur, maximeque pius quaestus stabilissimusque consequitur minimeque invidiosus, minimeque male cogitantes sunt qui in eo studio occupati sunt. Nunc, ut ad rem redeam, quod promisi institutum principium hoc erit.\"\n",
    "\n",
    "from cltk.tokenize.word import WordTokenizer\n",
    "word_tokenizer = WordTokenizer('latin')\n",
    "cato_cltk_word_tokens = word_tokenizer.tokenize(cato_agri_praef.lower())\n",
    "cato_cltk_word_tokens_no_punt = [token for token in cato_cltk_word_tokens if token not in ['.', ',', ':', ';']]\n",
    "\n",
    "# now you can see the word '-que'\n",
    "print(cato_cltk_word_tokens_no_punt)"
   ]
  },
  {
   "cell_type": "code",
   "execution_count": 4,
   "metadata": {},
   "outputs": [
    {
     "name": "stdout",
     "output_type": "stream",
     "text": [
      "est ['est']\n",
      "interdum ['in', 'ter', 'dum']\n",
      "praestare ['praes', 'ta', 're']\n",
      "mercaturis ['mer', 'ca', 'tu', 'ris']\n",
      "rem ['rem']\n",
      "quaerere ['quae', 're', 're']\n",
      "nisi ['ni', 'si']\n",
      "tam ['tam']\n",
      "periculosum ['pe', 'ri', 'cu', 'lo', 'sum']\n",
      "sit ['sit']\n",
      "et ['et']\n",
      "item ['i', 'tem']\n",
      "foenerari ['foe', 'ne', 'ra', 'ri']\n",
      "si ['si']\n",
      "tam ['tam']\n",
      "honestum ['ho', 'nes', 'tum']\n",
      "maiores ['ma', 'io', 'res']\n",
      "nostri ['nos', 'tri']\n",
      "sic ['sic']\n",
      "habuerunt ['ha', 'bu', 'e', 'runt']\n",
      "et ['et']\n",
      "ita ['i', 'ta']\n",
      "in ['in']\n",
      "legibus ['le', 'gi', 'bus']\n",
      "posiverunt ['po', 'si', 've', 'runt']\n",
      "furem ['fu', 'rem']\n",
      "dupli ['du', 'pli']\n",
      "condemnari ['con', 'dem', 'na', 'ri']\n",
      "foeneratorem ['foe', 'ne', 'ra', 'to', 'rem']\n",
      "quadrupli ['qua', 'dru', 'pli']\n",
      "quanto ['quan', 'to']\n",
      "peiorem ['peio', 'rem']\n",
      "civem ['ci', 'vem']\n",
      "existimarint ['ex', 'is', 'ti', 'ma', 'rint']\n",
      "foeneratorem ['foe', 'ne', 'ra', 'to', 'rem']\n",
      "quam ['quam']\n",
      "furem ['fu', 'rem']\n",
      "hinc ['hinc']\n",
      "licet ['li', 'cet']\n",
      "existimare ['ex', 'is', 'ti', 'ma', 're']\n",
      "et ['et']\n",
      "virum ['vi', 'rum']\n",
      "bonum ['bo', 'num']\n",
      "quom ['quom']\n",
      "laudabant ['lau', 'da', 'bant']\n",
      "ita ['i', 'ta']\n",
      "laudabant ['lau', 'da', 'bant']\n",
      "bonum ['bo', 'num']\n",
      "agricolam ['a', 'gri', 'co', 'lam']\n",
      "bonum ['bo', 'num']\n",
      "-que ['-que']\n",
      "colonum ['co', 'lo', 'num']\n",
      "amplissime ['am', 'plis', 'si', 'me']\n",
      "laudari ['lau', 'da', 'ri']\n",
      "existimabatur ['ex', 'is', 'ti', 'ma', 'ba', 'tur']\n",
      "qui ['qui']\n",
      "ita ['i', 'ta']\n",
      "laudabatur ['lau', 'da', 'ba', 'tur']\n",
      "mercatorem ['mer', 'ca', 'to', 'rem']\n",
      "autem ['au', 'tem']\n",
      "strenuum ['stre', 'nu', 'um']\n",
      "studiosum ['stu', 'di', 'o', 'sum']\n",
      "-que ['-que']\n",
      "rei ['rei']\n",
      "quaerendae ['quae', 'ren', 'dae']\n",
      "existimo ['ex', 'is', 'ti', 'mo']\n",
      "verum ['ve', 'rum']\n",
      "ut ['ut']\n",
      "supra ['su', 'pra']\n",
      "dixi ['di', 'xi']\n",
      "periculosum ['pe', 'ri', 'cu', 'lo', 'sum']\n",
      "et ['et']\n",
      "calamitosum ['ca', 'la', 'mi', 'to', 'sum']\n",
      "at ['at']\n",
      "ex ['ex']\n",
      "agricolis ['a', 'gri', 'co', 'lis']\n",
      "et ['et']\n",
      "viri ['vi', 'ri']\n",
      "fortissimi ['for', 'tis', 'si', 'mi']\n",
      "et ['et']\n",
      "milites ['mi', 'li', 'tes']\n",
      "strenuissimi ['stre', 'nu', 'is', 'si', 'mi']\n",
      "gignuntur ['gig', 'nun', 'tur']\n",
      "maxime ['ma', 'xi', 'me']\n",
      "-que ['-que']\n",
      "pius ['pi', 'us']\n",
      "quaestus ['quaes', 'tus']\n",
      "stabilissimus ['sta', 'bi', 'lis', 'si', 'mus']\n",
      "-que ['-que']\n",
      "consequitur ['con', 'se', 'qui', 'tur']\n",
      "minime ['mi', 'ni', 'me']\n",
      "-que ['-que']\n",
      "invidiosus ['in', 'vi', 'di', 'o', 'sus']\n",
      "minime ['mi', 'ni', 'me']\n",
      "-que ['-que']\n",
      "male ['ma', 'le']\n",
      "cogitantes ['co', 'gi', 'tan', 'tes']\n",
      "sunt ['sunt']\n",
      "qui ['qui']\n",
      "in ['in']\n",
      "eo ['e', 'o']\n",
      "studio ['stu', 'di', 'o']\n",
      "occupati ['oc', 'cu', 'pa', 'ti']\n",
      "sunt ['sunt']\n",
      "nunc ['nunc']\n",
      "ut ['ut']\n",
      "ad ['ad']\n",
      "rem ['rem']\n",
      "redeam ['re', 'de', 'am']\n",
      "quod ['quod']\n",
      "promisi ['pro', 'mi', 'si']\n",
      "institutum ['in', 'sti', 'tu', 'tum']\n",
      "principium ['prin', 'ci', 'pi', 'um']\n",
      "hoc ['hoc']\n",
      "erit ['e', 'rit']\n"
     ]
    }
   ],
   "source": [
    "syllabifier = Syllabifier()\n",
    "\n",
    "for word in cato_cltk_word_tokens_no_punt:\n",
    "    syllables = syllabifier.syllabify(word)\n",
    "    print(word, syllables)"
   ]
  },
  {
   "cell_type": "markdown",
   "metadata": {},
   "source": [
    "# Prosody\n",
    "\n",
    "Takes two steps: first find long vowels, then scan actual meter"
   ]
  },
  {
   "cell_type": "code",
   "execution_count": 6,
   "metadata": {},
   "outputs": [],
   "source": [
    "# macronizer\n",
    "# http://docs.cltk.org/en/latest/latin.html#macronizer\n",
    "from cltk.prosody.latin.macronizer import Macronizer\n",
    "\n",
    "macronizer = Macronizer('tag_ngram_123_backoff')\n",
    "\n",
    "text = 'Quo usque tandem, O Catilina, abutere nostra patientia?'\n",
    "\n",
    "scanned_text = macronizer.macronize_text(text)"
   ]
  },
  {
   "cell_type": "code",
   "execution_count": 7,
   "metadata": {},
   "outputs": [
    {
     "name": "stdout",
     "output_type": "stream",
     "text": [
      "[('quō', None, 'quō'), ('usque', 'd--------', 'usque'), ('tandem', 'd--------', 'tandem'), (',', 'u--------', ','), ('ō', None, 'ō'), ('catilīnā', None, 'catilīnā'), (',', 'u--------', ','), ('abūtēre', None, 'abūtēre'), ('nostrā', None, 'nostrā'), ('patientia', 'n-s---fn-', 'patientia'), ('?', None, '?')]\n"
     ]
    }
   ],
   "source": [
    "# scanner\n",
    "# http://docs.cltk.org/en/latest/latin.html#prosody-scanning\n",
    "\n",
    "from cltk.prosody.latin.scanner import Scansion\n",
    "\n",
    "scanner = Scansion()\n",
    "prose_text = macronizer.macronize_tags(scanned_text)\n",
    "print(prose_text)"
   ]
  },
  {
   "cell_type": "code",
   "execution_count": null,
   "metadata": {
    "collapsed": true
   },
   "outputs": [],
   "source": []
  }
 ],
 "metadata": {
  "kernelspec": {
   "display_name": "Python 3",
   "language": "python",
   "name": "python3"
  },
  "language_info": {
   "codemirror_mode": {
    "name": "ipython",
    "version": 3
   },
   "file_extension": ".py",
   "mimetype": "text/x-python",
   "name": "python",
   "nbconvert_exporter": "python",
   "pygments_lexer": "ipython3",
   "version": "3.6.4"
  }
 },
 "nbformat": 4,
 "nbformat_minor": 2
}
