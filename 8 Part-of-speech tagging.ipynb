{
 "cells": [
  {
   "cell_type": "code",
   "execution_count": 1,
   "metadata": {},
   "outputs": [],
   "source": [
    "aen = \"\"\"arma virumque cano, Troiae qui primus ab oris\n",
    "Italiam, fato profugus, Laviniaque venit\n",
    "litora, multum ille et terris iactatus et alto\n",
    "vi superum saevae memorem Iunonis ob iram;\n",
    "multa quoque et bello passus, dum conderet urbem,               5\n",
    "inferretque deos Latio, genus unde Latinum,\n",
    "Albanique patres, atque altae moenia Romae.\"\"\"\n",
    "\n",
    "# rm line breaks\n",
    "aen = aen.replace('\\n', ' ')"
   ]
  },
  {
   "cell_type": "code",
   "execution_count": 2,
   "metadata": {},
   "outputs": [],
   "source": [
    "from cltk.tag.pos import POSTag"
   ]
  },
  {
   "cell_type": "code",
   "execution_count": 3,
   "metadata": {},
   "outputs": [],
   "source": [
    "tagger = POSTag('latin')\n",
    "\n",
    "aen_tagged = tagger.tag_ngram_123_backoff(aen)"
   ]
  },
  {
   "cell_type": "code",
   "execution_count": 4,
   "metadata": {},
   "outputs": [
    {
     "name": "stdout",
     "output_type": "stream",
     "text": [
      "[('arma', 'N-P---NA-'), ('virumque', None), ('cano', None), (',', 'U--------'), ('Troiae', None), ('qui', 'P-S---MN-'), ('primus', 'A-S---MN-'), ('ab', 'R--------'), ('oris', 'N-P---NB-'), ('Italiam', None), (',', 'U--------'), ('fato', None), ('profugus', None), (',', 'U--------'), ('Laviniaque', None), ('venit', 'V3SPIA---'), ('litora', 'N-P---NA-'), (',', 'U--------'), ('multum', 'A-S---MA-'), ('ille', 'P-S---MN-'), ('et', 'C--------'), ('terris', 'N-P---FB-'), ('iactatus', None), ('et', 'C--------'), ('alto', 'A-S---MB-'), ('vi', 'N-S---FB-'), ('superum', 'N-P---MG-'), ('saevae', None), ('memorem', 'V1SPSA---'), ('Iunonis', None), ('ob', 'R--------'), ('iram', 'N-S---FA-'), (';', None), ('multa', 'A-P---NA-'), ('quoque', 'D--------'), ('et', 'C--------'), ('bello', 'N-S---NB-'), ('passus', 'N-P---MA-'), (',', 'U--------'), ('dum', 'C--------'), ('conderet', None), ('urbem', 'N-S---FA-'), (',', 'U--------'), ('5', None), ('inferretque', None), ('deos', 'N-P---MA-'), ('Latio', None), (',', 'U--------'), ('genus', 'N-S---NN-'), ('unde', 'D--------'), ('Latinum', None), (',', 'U--------'), ('Albanique', None), ('patres', 'N-P---MV-'), (',', 'U--------'), ('atque', 'C--------'), ('altae', None), ('moenia', 'N-P---NA-'), ('Romae', None), ('.', 'U--------')]\n"
     ]
    }
   ],
   "source": [
    "print(aen_tagged)"
   ]
  },
  {
   "cell_type": "code",
   "execution_count": 5,
   "metadata": {},
   "outputs": [],
   "source": [
    "# a few options\n",
    "aen_tagged = tagger.tag_crf('Gallia est omnis divisa in partes tres')"
   ]
  },
  {
   "cell_type": "code",
   "execution_count": null,
   "metadata": {},
   "outputs": [],
   "source": [
    " "
   ]
  }
 ],
 "metadata": {
  "kernelspec": {
   "display_name": "Python 3",
   "language": "python",
   "name": "python3"
  },
  "language_info": {
   "codemirror_mode": {
    "name": "ipython",
    "version": 3
   },
   "file_extension": ".py",
   "mimetype": "text/x-python",
   "name": "python",
   "nbconvert_exporter": "python",
   "pygments_lexer": "ipython3",
   "version": "3.6.4"
  }
 },
 "nbformat": 4,
 "nbformat_minor": 2
}
